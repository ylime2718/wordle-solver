{
 "cells": [
  {
   "cell_type": "code",
   "execution_count": null,
   "id": "3e1b8b49",
   "metadata": {},
   "outputs": [],
   "source": [
    "# This is the solution for the Wordle Solver"
   ]
  },
  {
   "cell_type": "code",
   "execution_count": 12,
   "id": "7239883d",
   "metadata": {},
   "outputs": [],
   "source": [
    "import numpy as np"
   ]
  },
  {
   "cell_type": "code",
   "execution_count": 15,
   "id": "1b5bb491",
   "metadata": {
    "scrolled": false
   },
   "outputs": [],
   "source": [
    "# Read the word files, save as numpy array of strings\n",
    "readFile = open(\"winwords.txt\")\n",
    "winWords = readFile.read().split(',')\n",
    "readFile.close()\n",
    "for i in range(len(winWords)):\n",
    "    winWords[i] = winWords[i].strip('\"\"')\n",
    "winWords = np.array(winWords)\n",
    "    \n",
    "readFile = open(\"validwords.txt\")\n",
    "validWords = readFile.read().split(',')\n",
    "readFile.close()\n",
    "for i in range(len(validWords)):\n",
    "    validWords[i] = validWords[i].strip('\"\"')\n",
    "validWords = np.array(validWords)"
   ]
  },
  {
   "cell_type": "code",
   "execution_count": 16,
   "id": "72719100",
   "metadata": {},
   "outputs": [],
   "source": [
    "# TO DO: featurize winWords and validWords lists\n",
    "\n",
    "# Idea: Create a 26 x 5 matrix (or 130 x 1 vector) for each word that indicates whether each of the 26 letters in the \n",
    "# alphabet either are or are not present at each of the 5 positions within the word (one-hot encoding)."
   ]
  },
  {
   "cell_type": "code",
   "execution_count": null,
   "id": "ecadfda9",
   "metadata": {},
   "outputs": [],
   "source": [
    "# User I/o\n",
    "# (1) Word you guessed\n",
    "# (2) Feedback from Wordle (green, yellow gray)\n",
    "\n",
    "userGuess = input(\"What word did you guess?\\n\")\n",
    "feedback = input(\"What feedback did Wordle give? Enter 5 letters without spaces (G=green, Y=yellow, R=gray).\\n\")"
   ]
  },
  {
   "cell_type": "code",
   "execution_count": null,
   "id": "fc8fdbca",
   "metadata": {},
   "outputs": [],
   "source": [
    "# Filter words based on guess\n",
    "\n",
    "# First time only: create a copy of realWords\n",
    "\n",
    "# Each time user makes guess: eliminate words that don't match their feedback\n",
    "\n",
    "# G - Green - must match letter in exact position\n",
    "#     (eliminate words that don't have this letter in this position)\n",
    "\n",
    "# R - Gray - can't contain letter\n",
    "#.    (eliminate words that contain this letter)\n",
    "\n",
    "# Y - Yellow - must contain letter, can't be in same position\n",
    "#.    (eliminate words that 1-contain this letter in this position or 2-don't contain this letter at all)"
   ]
  },
  {
   "cell_type": "code",
   "execution_count": null,
   "id": "6c1b5c78",
   "metadata": {},
   "outputs": [],
   "source": [
    "#dis mine"
   ]
  },
  {
   "cell_type": "code",
   "execution_count": null,
   "id": "3d253e08",
   "metadata": {},
   "outputs": [],
   "source": [
    "# Recommend next guess word\n",
    "\n",
    "# Naive idea: iterate over all the valid guess and meaure how much information each one will\n",
    "# give you. Recommend the word with the highest information as the next guess."
   ]
  }
 ],
 "metadata": {
  "kernelspec": {
   "display_name": "Python 3 (ipykernel)",
   "language": "python",
   "name": "python3"
  },
  "language_info": {
   "codemirror_mode": {
    "name": "ipython",
    "version": 3
   },
   "file_extension": ".py",
   "mimetype": "text/x-python",
   "name": "python",
   "nbconvert_exporter": "python",
   "pygments_lexer": "ipython3",
   "version": "3.9.7"
  }
 },
 "nbformat": 4,
 "nbformat_minor": 5
}
