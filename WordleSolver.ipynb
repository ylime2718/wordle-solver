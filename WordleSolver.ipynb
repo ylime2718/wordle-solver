{
 "cells": [
  {
   "cell_type": "code",
   "execution_count": null,
   "id": "3e1b8b49",
   "metadata": {},
   "outputs": [],
   "source": [
    "# This is the solution for the Wordle Solver"
   ]
  },
  {
   "cell_type": "code",
   "execution_count": 1,
   "id": "7239883d",
   "metadata": {},
   "outputs": [],
   "source": [
    "import numpy as np\n",
    "import random"
   ]
  },
  {
   "cell_type": "code",
   "execution_count": 2,
   "id": "1b5bb491",
   "metadata": {
    "scrolled": false
   },
   "outputs": [
    {
     "name": "stdout",
     "output_type": "stream",
     "text": [
      "Winning words are ['cigar' 'rebut' 'sissy' ... 'flack' 'widow' 'augur']\n",
      "Valid words are ['aahed' 'aalii' 'aargh' ... 'zygon' 'zymes' 'zymic']\n",
      "All the words are ['cigar' 'rebut' 'sissy' ... 'zygon' 'zymes' 'zymic']\n"
     ]
    }
   ],
   "source": [
    "# Read the word files, save as numpy array of strings\n",
    "readFile = open(\"winwords.txt\")\n",
    "winWords = readFile.read().split(',')\n",
    "readFile.close()\n",
    "for i in range(len(winWords)):\n",
    "    winWords[i] = winWords[i].strip('\"\"')\n",
    "winWords = np.array(winWords)\n",
    "print(\"Winning words are\",winWords)\n",
    "    \n",
    "readFile = open(\"validwords.txt\")\n",
    "validWords = readFile.read().split(',')\n",
    "readFile.close()\n",
    "for i in range(len(validWords)):\n",
    "    validWords[i] = validWords[i].strip('\"\"')\n",
    "validWords = np.array(validWords)\n",
    "print(\"Valid words are\",validWords)\n",
    "\n",
    "combinedWords = np.hstack((winWords,validWords))\n",
    "print(\"All the words are\",combinedWords)"
   ]
  },
  {
   "cell_type": "code",
   "execution_count": null,
   "id": "72719100",
   "metadata": {},
   "outputs": [],
   "source": [
    "# TO DO: featurize winWords and validWords lists\n",
    "\n",
    "# Idea: Create a 26 x 5 matrix (or 130 x 1 vector) for each word that indicates whether each of the 26 letters in the \n",
    "# alphabet either are or are not present at each of the 5 positions within the word (one-hot encoding)."
   ]
  },
  {
   "cell_type": "code",
   "execution_count": 4,
   "id": "8e70d7d4",
   "metadata": {},
   "outputs": [],
   "source": [
    "def processGreen(index, userInput, wordList):\n",
    "    '''\n",
    "    Inputs:\n",
    "    index: the location of the green letter\n",
    "    userInput: the word the user guessed\n",
    "    wordList: the list of words to be modified\n",
    "\n",
    "    Outputs:\n",
    "    None, simply modifies wordList\n",
    "\n",
    "    Words must match exact position of the desired letter to stay on the wordList list\n",
    "    '''\n",
    "  \n",
    "    trimmed = [x for x in wordList if x[index] == userInput[index]]\n",
    "    #print(wordList)\n",
    "    return trimmed"
   ]
  },
  {
   "cell_type": "code",
   "execution_count": 5,
   "id": "06804dea",
   "metadata": {},
   "outputs": [],
   "source": [
    "def processYellow(index, userInput, wordList):\n",
    "    '''\n",
    "    Inputs:\n",
    "    index: the location of the yellow letter\n",
    "    userInput: the word the user guessed\n",
    "    wordList: the list of words to be modified\n",
    "\n",
    "    Outputs:\n",
    "    None, simply modifies wordList\n",
    "\n",
    "    Words must contain the desired letter to stay on the wordList\n",
    "    '''\n",
    "    trimmed = [x for x in wordList if (userInput[index] in x and x[index] != userInput[index])]\n",
    "    #print(wordList)\n",
    "    return trimmed"
   ]
  },
  {
   "cell_type": "code",
   "execution_count": 6,
   "id": "8c532eea",
   "metadata": {},
   "outputs": [],
   "source": [
    "def processGray(index, userInput, wordList):\n",
    "    '''\n",
    "    Inputs:\n",
    "    index: the location of the gray letter\n",
    "    userInput: the word the user guessed\n",
    "    wordList: the list of words to be modified\n",
    "\n",
    "    Outputs:\n",
    "    None, simply modifies wordList\n",
    "\n",
    "    Words must not contain the desired letter to stay on the wordList\n",
    "    '''\n",
    "    trimmed = [x for x in wordList if userInput[index] not in x]\n",
    "    #print(wordList)\n",
    "    return trimmed"
   ]
  },
  {
   "cell_type": "code",
   "execution_count": 7,
   "id": "0c61b0c0",
   "metadata": {},
   "outputs": [],
   "source": [
    "def checkUserInput(userInput, wordOfDay):\n",
    "    L = 2*np.ones(5)\n",
    "\n",
    "    for i in range(5):\n",
    "        if wordOfDay[i] == userInput[i]:\n",
    "            L[i] = 0\n",
    "        elif userInput[i] in wordOfDay:\n",
    "            L[i] = 1\n",
    "  \n",
    "    return L"
   ]
  },
  {
   "cell_type": "markdown",
   "id": "779d2198",
   "metadata": {},
   "source": [
    "# Play the game"
   ]
  },
  {
   "cell_type": "code",
   "execution_count": 11,
   "id": "e2a006c6",
   "metadata": {},
   "outputs": [
    {
     "name": "stdout",
     "output_type": "stream",
     "text": [
      "['cigar' 'rebut' 'sissy' ... 'flack' 'widow' 'augur']\n"
     ]
    }
   ],
   "source": [
    "# Create a copy of winWords\n",
    "playingWords = np.array(winWords)\n",
    "print(playingWords)\n",
    "\n",
    "# Randomly choose winning word\n",
    "wordOfDay = winWords[random.randint(0,len(winWords))]"
   ]
  },
  {
   "cell_type": "code",
   "execution_count": 12,
   "id": "fc8fdbca",
   "metadata": {
    "scrolled": false
   },
   "outputs": [
    {
     "name": "stdout",
     "output_type": "stream",
     "text": [
      "What word did you guess?\n",
      "crane\n",
      "[2. 2. 2. 2. 1.]\n",
      "['model', 'quiet', 'helix', 'whelp', 'flesh', 'belly', 'seedy', 'bleed', 'totem', 'golem', 'islet', 'tweed', 'steed', 'exult', 'sweet', 'smelt', 'depot', 'epoxy', 'heist', 'zesty', 'yield', 'depth', 'piety', 'field', 'upset', 'exist', 'spiel', 'libel', 'spell', 'fleet', 'equip', 'lefty', 'spelt', 'sleep', 'sleet', 'dowel', 'bowel', 'embed', 'edify', 'vowel', 'quell', 'beset', 'hovel', 'fetid', 'bless', 'betel', 'dwelt', 'jetty', 'eight', 'sweep', 'shied', 'geeky', 'filet', 'guest', 'level', 'sheet', 'shell', 'steel', 'smell', 'sheik', 'jelly', 'shelf', 'beget', 'wheel', 'tempo', 'steep', 'dwell', 'debit', 'thief', 'poesy', 'tweet', 'deity', 'bevel', 'duvet', 'empty', 'speed', 'detox', 'plied', 'beefy', 'towel', 'below', 'swell', 'jewel', 'elbow', 'welsh', 'pesky', 'ethos', 'extol', 'elegy', 'hefty', 'swept', 'wield', 'pixel', 'hotel', 'pesto', 'weedy', 'debut', 'teeth', 'slept', 'quest', 'befit', 'guess', 'weigh', 'bused', 'expel', 'motel', 'debug', 'video', 'leggy', 'modem', 'devil', 'sheep', 'testy', 'bezel', 'gooey', 'theft', 'dopey', 'bleep', 'setup', 'petty', 'impel', 'teddy', 'spied', 'hello', 'tepid', 'sleek', 'fetus']\n",
      "What is your next guess?\n",
      "slept\n",
      "[2. 1. 1. 2. 2.]\n",
      "['model', 'helix', 'belly', 'golem', 'libel', 'dowel', 'bowel', 'vowel', 'hovel', 'level', 'jelly', 'bevel', 'below', 'jewel', 'leggy', 'devil', 'bezel', 'hello']\n",
      "What is your next guess?\n",
      "fledg\n",
      "[2. 1. 1. 2. 2.]\n",
      "['helix', 'belly', 'libel', 'bowel', 'vowel', 'hovel', 'level', 'jelly', 'bevel', 'below', 'jewel', 'bezel', 'hello']\n",
      "What is your next guess?\n",
      "bhivj\n",
      "[0. 2. 2. 1. 2.]\n",
      "['bevel']\n",
      "What is your next guess?\n",
      "bevel\n",
      "You win!\n"
     ]
    }
   ],
   "source": [
    "# User I/o\n",
    "# (1) Word you guessedwordOfDay = winWords[random.randint(0,len(winWords))]\n",
    "userInput = input(\"What word did you guess?\\n\")\n",
    "\n",
    "while(userInput != wordOfDay):\n",
    "    feedback = checkUserInput(userInput,wordOfDay)\n",
    "    print(feedback)\n",
    "    \n",
    "    # Filter words based on guess\n",
    "    # Each time user makes guess: eliminate words that don't match their feedback\n",
    "    for i in range(5):\n",
    "        # iterate over feedback\n",
    "        if feedback[i] == 0:\n",
    "            playingWords = processGreen(i,userInput,playingWords)\n",
    "        elif feedback[i] == 1:\n",
    "            playingWords = processYellow(i,userInput,playingWords)\n",
    "        elif feedback[i] == 2:\n",
    "            playingWords = processGray(i,userInput,playingWords)\n",
    "    print(playingWords)\n",
    "    userInput = input(\"What is your next guess?\\n\")\n",
    "print(\"You win!\")\n",
    "# 0 - Green - must match letter in exact position\n",
    "#     (eliminate words that don't have this letter in this position)\n",
    "\n",
    "# 2 - Gray - can't contain letter\n",
    "#.    (eliminate words that contain this letter)\n",
    "\n",
    "# 1 - Yellow - must contain letter, can't be in same position\n",
    "#.    (eliminate words that 1-contain this letter in this position or 2-don't contain this letter at all)"
   ]
  },
  {
   "cell_type": "code",
   "execution_count": null,
   "id": "3d253e08",
   "metadata": {},
   "outputs": [],
   "source": [
    "# Recommend next guess word\n",
    "\n",
    "# Naive idea: iterate over all the valid guess and meaure how much information each one will\n",
    "# give you. Recommend the word with the highest information as the next guess."
   ]
  }
 ],
 "metadata": {
  "kernelspec": {
   "display_name": "Python 3 (ipykernel)",
   "language": "python",
   "name": "python3"
  },
  "language_info": {
   "codemirror_mode": {
    "name": "ipython",
    "version": 3
   },
   "file_extension": ".py",
   "mimetype": "text/x-python",
   "name": "python",
   "nbconvert_exporter": "python",
   "pygments_lexer": "ipython3",
   "version": "3.9.12"
  }
 },
 "nbformat": 4,
 "nbformat_minor": 5
}
