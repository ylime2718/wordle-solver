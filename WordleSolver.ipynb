{
 "cells": [
  {
   "cell_type": "code",
   "execution_count": null,
   "id": "3e1b8b49",
   "metadata": {},
   "outputs": [],
   "source": [
    "# This is the solution for the Wordle Solver"
   ]
  },
  {
   "cell_type": "code",
   "execution_count": 1,
   "id": "7239883d",
   "metadata": {},
   "outputs": [],
   "source": [
    "import numpy as np"
   ]
  },
  {
   "cell_type": "code",
   "execution_count": 12,
   "id": "1b5bb491",
   "metadata": {
    "scrolled": false
   },
   "outputs": [
    {
     "name": "stdout",
     "output_type": "stream",
     "text": [
      "Winning words are ['cigar' 'rebut' 'sissy' ... 'flack' 'widow' 'augur']\n",
      "Valid words are ['aahed' 'aalii' 'aargh' ... 'zygon' 'zymes' 'zymic']\n",
      "All the words are ['cigar' 'rebut' 'sissy' ... 'zygon' 'zymes' 'zymic']\n"
     ]
    }
   ],
   "source": [
    "# Read the word files, save as numpy array of strings\n",
    "readFile = open(\"winwords.txt\")\n",
    "winWords = readFile.read().split(',')\n",
    "readFile.close()\n",
    "for i in range(len(winWords)):\n",
    "    winWords[i] = winWords[i].strip('\"\"')\n",
    "winWords = np.array(winWords)\n",
    "print(\"Winning words are\",winWords)\n",
    "    \n",
    "readFile = open(\"validwords.txt\")\n",
    "validWords = readFile.read().split(',')\n",
    "readFile.close()\n",
    "for i in range(len(validWords)):\n",
    "    validWords[i] = validWords[i].strip('\"\"')\n",
    "validWords = np.array(validWords)\n",
    "print(\"Valid words are\",validWords)\n",
    "\n",
    "combinedWords = np.hstack((winWords,validWords))\n",
    "print(\"All the words are\",combinedWords)"
   ]
  },
  {
   "cell_type": "code",
   "execution_count": 16,
   "id": "72719100",
   "metadata": {},
   "outputs": [],
   "source": [
    "# TO DO: featurize winWords and validWords lists\n",
    "\n",
    "# Idea: Create a 26 x 5 matrix (or 130 x 1 vector) for each word that indicates whether each of the 26 letters in the \n",
    "# alphabet either are or are not present at each of the 5 positions within the word (one-hot encoding)."
   ]
  },
  {
   "cell_type": "code",
   "execution_count": 4,
   "id": "ecadfda9",
   "metadata": {},
   "outputs": [
    {
     "name": "stdout",
     "output_type": "stream",
     "text": [
      "What word did you guess?\n",
      "SHARK\n",
      "What feedback did Wordle give? Enter 5 letters without spaces (0=green, 1=yellow, 2=gray).\n",
      "00022\n"
     ]
    }
   ],
   "source": [
    "# User I/o\n",
    "# (1) Word you guessed\n",
    "# (2) Feedback from Wordle (green, yellow gray)\n",
    "\n",
    "userGuess = input(\"What word did you guess?\\n\")\n",
    "feedback = input(\"What feedback did Wordle give? Enter 5 letters without spaces (0=green, 1=yellow, 2=gray).\\n\")"
   ]
  },
  {
   "cell_type": "code",
   "execution_count": null,
   "id": "fc8fdbca",
   "metadata": {},
   "outputs": [],
   "source": [
    "# Filter words based on guess\n",
    "\n",
    "# First time only: create a copy of realWords\n",
    "\n",
    "# Each time user makes guess: eliminate words that don't match their feedback\n",
    "\n",
    "for i in range(5):\n",
    "    # iterate over feedback\n",
    "    if feedback[i] == 0:\n",
    "        # call \"greenletter\"\n",
    "    else if feedback[i] == 1:\n",
    "        # call \"yellowletter\"\n",
    "    else if feedback[i] == 2:\n",
    "        # call \"gray letter\"\n",
    "\n",
    "# G - Green - must match letter in exact position\n",
    "#     (eliminate words that don't have this letter in this position)\n",
    "# JESSE\n",
    "\n",
    "# R - Gray - can't contain letter\n",
    "#.    (eliminate words that contain this letter)\n",
    "# JESSE\n",
    "\n",
    "# Y - Yellow - must contain letter, can't be in same position\n",
    "#.    (eliminate words that 1-contain this letter in this position or 2-don't contain this letter at all)\n",
    "# EMILY"
   ]
  },
  {
   "cell_type": "code",
   "execution_count": null,
   "id": "8e70d7d4",
   "metadata": {},
   "outputs": [],
   "source": [
    "def greenLetter(letter, pos):\n",
    "    # letter: what letter is green\n",
    "    # pos : what position is green\n",
    "    \n",
    "    # edit winWords & combinedWords"
   ]
  },
  {
   "cell_type": "code",
   "execution_count": null,
   "id": "06804dea",
   "metadata": {},
   "outputs": [],
   "source": [
    "def yellowLetter():"
   ]
  },
  {
   "cell_type": "code",
   "execution_count": null,
   "id": "8c532eea",
   "metadata": {},
   "outputs": [],
   "source": [
    "def grayLetter():"
   ]
  },
  {
   "cell_type": "code",
   "execution_count": null,
   "id": "3d253e08",
   "metadata": {},
   "outputs": [],
   "source": [
    "# Recommend next guess word\n",
    "\n",
    "# Naive idea: iterate over all the valid guess and meaure how much information each one will\n",
    "# give you. Recommend the word with the highest information as the next guess."
   ]
  }
 ],
 "metadata": {
  "kernelspec": {
   "display_name": "Python 3 (ipykernel)",
   "language": "python",
   "name": "python3"
  },
  "language_info": {
   "codemirror_mode": {
    "name": "ipython",
    "version": 3
   },
   "file_extension": ".py",
   "mimetype": "text/x-python",
   "name": "python",
   "nbconvert_exporter": "python",
   "pygments_lexer": "ipython3",
   "version": "3.9.12"
  }
 },
 "nbformat": 4,
 "nbformat_minor": 5
}
